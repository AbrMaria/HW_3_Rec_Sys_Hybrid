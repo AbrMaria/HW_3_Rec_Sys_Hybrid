{
 "cells": [
  {
   "cell_type": "markdown",
   "metadata": {},
   "source": [
    "# Гибридные рекомендательные системы\n",
    "- Датасет ml-latest\n",
    "- Вспомнить подходы, которые мы разбирали\n",
    "- Выбрать понравившийся подход к гибридным системам"
   ]
  },
  {
   "cell_type": "markdown",
   "metadata": {},
   "source": [
    "Построение гибридной рекомендательной системы:\n",
    "\n",
    "- Холодный старт (до 5 оценок) - рекомендуем наиболее популярные фильмы\n",
    "- Теплый старт (от 5 до 10 оценок) - рекомендуем фильмы на основе сожержания\n",
    "- Горячий старт (от 10 до бесконечности оценок) - коллаборативная фильтрация с блендингом (Item, User based)"
   ]
  },
  {
   "cell_type": "code",
   "execution_count": 2,
   "metadata": {},
   "outputs": [],
   "source": [
    "import pandas as pd\n",
    "import numpy as np\n",
    "import xgboost\n",
    "\n",
    "%matplotlib inline\n",
    "\n",
    "from surprise import SVD, SVDpp\n",
    "from surprise import Dataset\n",
    "from surprise import accuracy\n",
    "from surprise import Reader\n",
    "\n",
    "from surprise.model_selection import train_test_split\n",
    "from surprise.model_selection import GridSearchCV\n",
    "\n",
    "\n",
    "import matplotlib.pyplot as plt\n",
    "\n",
    "from tqdm import tqdm_notebook\n",
    "\n",
    "from sklearn.feature_extraction.text import TfidfTransformer, CountVectorizer\n",
    "from sklearn.neighbors import NearestNeighbors\n",
    "\n",
    "from sklearn.model_selection import RandomizedSearchCV\n",
    "from sklearn.model_selection import GridSearchCV\n",
    "\n",
    "from sklearn.metrics import mean_squared_log_error, mean_squared_error\n",
    "from sklearn.preprocessing import normalize\n",
    "\n",
    "from sklearn.linear_model import LinearRegression\n",
    "from sklearn.model_selection import train_test_split\n",
    "from sklearn.metrics import mean_squared_error"
   ]
  },
  {
   "cell_type": "code",
   "execution_count": 3,
   "metadata": {},
   "outputs": [],
   "source": [
    "movies = pd.read_csv('../ml-latest-small 2/movies.csv')\n",
    "links = pd.read_csv('../ml-latest-small 2/links.csv')\n",
    "tags = pd.read_csv('../ml-latest-small 2/tags.csv')\n",
    "ratings = pd.read_csv('../ml-latest-small 2/ratings.csv')"
   ]
  },
  {
   "cell_type": "code",
   "execution_count": 4,
   "metadata": {},
   "outputs": [],
   "source": [
    "# соединим датасет с рейтингами и названиями фильмов\n",
    "movies_joined_ratings = ratings.join(movies.set_index('movieId'), on='movieId')"
   ]
  },
  {
   "cell_type": "markdown",
   "metadata": {},
   "source": [
    "### Рекомендательная система для холодного старта"
   ]
  },
  {
   "cell_type": "code",
   "execution_count": 5,
   "metadata": {},
   "outputs": [],
   "source": [
    "#рекомендуем фильмы по популярности"
   ]
  },
  {
   "cell_type": "code",
   "execution_count": 6,
   "metadata": {},
   "outputs": [],
   "source": [
    "movies_means = ratings.groupby('movieId').agg({'userId': np.count_nonzero, 'rating': [np.median, np.var, np.average]})\n",
    "movies_means.columns=['userid_count', 'movie_rating_median', 'movie_rating_var', 'movie_rating_average']\n",
    "movies_means=movies_means.fillna(0)"
   ]
  },
  {
   "cell_type": "code",
   "execution_count": 7,
   "metadata": {},
   "outputs": [
    {
     "data": {
      "text/html": [
       "<div>\n",
       "<style scoped>\n",
       "    .dataframe tbody tr th:only-of-type {\n",
       "        vertical-align: middle;\n",
       "    }\n",
       "\n",
       "    .dataframe tbody tr th {\n",
       "        vertical-align: top;\n",
       "    }\n",
       "\n",
       "    .dataframe thead th {\n",
       "        text-align: right;\n",
       "    }\n",
       "</style>\n",
       "<table border=\"1\" class=\"dataframe\">\n",
       "  <thead>\n",
       "    <tr style=\"text-align: right;\">\n",
       "      <th></th>\n",
       "      <th>userid_count</th>\n",
       "      <th>movie_rating_median</th>\n",
       "      <th>movie_rating_var</th>\n",
       "      <th>movie_rating_average</th>\n",
       "      <th>movieId</th>\n",
       "    </tr>\n",
       "  </thead>\n",
       "  <tbody>\n",
       "    <tr>\n",
       "      <th>0</th>\n",
       "      <td>0.999656</td>\n",
       "      <td>0.018598</td>\n",
       "      <td>0.003241</td>\n",
       "      <td>0.018231</td>\n",
       "      <td>1</td>\n",
       "    </tr>\n",
       "    <tr>\n",
       "      <th>1</th>\n",
       "      <td>0.998984</td>\n",
       "      <td>0.031786</td>\n",
       "      <td>0.007060</td>\n",
       "      <td>0.031167</td>\n",
       "      <td>2</td>\n",
       "    </tr>\n",
       "    <tr>\n",
       "      <th>2</th>\n",
       "      <td>0.996164</td>\n",
       "      <td>0.057471</td>\n",
       "      <td>0.021315</td>\n",
       "      <td>0.062444</td>\n",
       "      <td>3</td>\n",
       "    </tr>\n",
       "    <tr>\n",
       "      <th>3</th>\n",
       "      <td>0.874430</td>\n",
       "      <td>0.374756</td>\n",
       "      <td>0.090715</td>\n",
       "      <td>0.294451</td>\n",
       "      <td>4</td>\n",
       "    </tr>\n",
       "    <tr>\n",
       "      <th>4</th>\n",
       "      <td>0.996044</td>\n",
       "      <td>0.060982</td>\n",
       "      <td>0.016728</td>\n",
       "      <td>0.062434</td>\n",
       "      <td>5</td>\n",
       "    </tr>\n",
       "  </tbody>\n",
       "</table>\n",
       "</div>"
      ],
      "text/plain": [
       "   userid_count  movie_rating_median  movie_rating_var  movie_rating_average  \\\n",
       "0      0.999656             0.018598          0.003241              0.018231   \n",
       "1      0.998984             0.031786          0.007060              0.031167   \n",
       "2      0.996164             0.057471          0.021315              0.062444   \n",
       "3      0.874430             0.374756          0.090715              0.294451   \n",
       "4      0.996044             0.060982          0.016728              0.062434   \n",
       "\n",
       "   movieId  \n",
       "0        1  \n",
       "1        2  \n",
       "2        3  \n",
       "3        4  \n",
       "4        5  "
      ]
     },
     "execution_count": 7,
     "metadata": {},
     "output_type": "execute_result"
    }
   ],
   "source": [
    "movies_means_normalize = pd.DataFrame(data=normalize(movies_means), columns=movies_means.columns)\n",
    "movies_means_normalize['movieId']=movies_means.index\n",
    "movies_means_normalize.head()"
   ]
  },
  {
   "cell_type": "code",
   "execution_count": 8,
   "metadata": {},
   "outputs": [],
   "source": [
    "# Нормируем количество оценок пользователей и рейтинг фильмов\n",
    "movies_popularity = movies_means\n",
    "\n",
    "# Популярность фильма = нормированный райтинг * нормированное количество оценок\n",
    "movies_popularity['popularity'] = movies_popularity['userid_count'] * movies_popularity['movie_rating_average']\n",
    "movies_popularity = movies_popularity.merge(movies, on='movieId', how='left', sort=False)[\n",
    "                                            ['movieId', 'title', 'genres', 'popularity']]"
   ]
  },
  {
   "cell_type": "code",
   "execution_count": 9,
   "metadata": {},
   "outputs": [],
   "source": [
    "def cold_start(userId):\n",
    "    movies = movies_popularity.sort_values('popularity', ascending=False)[['movieId', 'title', 'popularity']].head(10)\n",
    "    return movies"
   ]
  },
  {
   "cell_type": "code",
   "execution_count": 10,
   "metadata": {},
   "outputs": [
    {
     "data": {
      "text/html": [
       "<div>\n",
       "<style scoped>\n",
       "    .dataframe tbody tr th:only-of-type {\n",
       "        vertical-align: middle;\n",
       "    }\n",
       "\n",
       "    .dataframe tbody tr th {\n",
       "        vertical-align: top;\n",
       "    }\n",
       "\n",
       "    .dataframe thead th {\n",
       "        text-align: right;\n",
       "    }\n",
       "</style>\n",
       "<table border=\"1\" class=\"dataframe\">\n",
       "  <thead>\n",
       "    <tr style=\"text-align: right;\">\n",
       "      <th></th>\n",
       "      <th>movieId</th>\n",
       "      <th>title</th>\n",
       "      <th>popularity</th>\n",
       "    </tr>\n",
       "  </thead>\n",
       "  <tbody>\n",
       "    <tr>\n",
       "      <th>277</th>\n",
       "      <td>318</td>\n",
       "      <td>Shawshank Redemption, The (1994)</td>\n",
       "      <td>1404.0</td>\n",
       "    </tr>\n",
       "    <tr>\n",
       "      <th>314</th>\n",
       "      <td>356</td>\n",
       "      <td>Forrest Gump (1994)</td>\n",
       "      <td>1370.0</td>\n",
       "    </tr>\n",
       "    <tr>\n",
       "      <th>257</th>\n",
       "      <td>296</td>\n",
       "      <td>Pulp Fiction (1994)</td>\n",
       "      <td>1288.5</td>\n",
       "    </tr>\n",
       "    <tr>\n",
       "      <th>1938</th>\n",
       "      <td>2571</td>\n",
       "      <td>Matrix, The (1999)</td>\n",
       "      <td>1165.5</td>\n",
       "    </tr>\n",
       "    <tr>\n",
       "      <th>510</th>\n",
       "      <td>593</td>\n",
       "      <td>Silence of the Lambs, The (1991)</td>\n",
       "      <td>1161.0</td>\n",
       "    </tr>\n",
       "    <tr>\n",
       "      <th>224</th>\n",
       "      <td>260</td>\n",
       "      <td>Star Wars: Episode IV - A New Hope (1977)</td>\n",
       "      <td>1062.0</td>\n",
       "    </tr>\n",
       "    <tr>\n",
       "      <th>97</th>\n",
       "      <td>110</td>\n",
       "      <td>Braveheart (1995)</td>\n",
       "      <td>955.5</td>\n",
       "    </tr>\n",
       "    <tr>\n",
       "      <th>2224</th>\n",
       "      <td>2959</td>\n",
       "      <td>Fight Club (1999)</td>\n",
       "      <td>931.5</td>\n",
       "    </tr>\n",
       "    <tr>\n",
       "      <th>461</th>\n",
       "      <td>527</td>\n",
       "      <td>Schindler's List (1993)</td>\n",
       "      <td>929.5</td>\n",
       "    </tr>\n",
       "    <tr>\n",
       "      <th>418</th>\n",
       "      <td>480</td>\n",
       "      <td>Jurassic Park (1993)</td>\n",
       "      <td>892.5</td>\n",
       "    </tr>\n",
       "  </tbody>\n",
       "</table>\n",
       "</div>"
      ],
      "text/plain": [
       "      movieId                                      title  popularity\n",
       "277       318           Shawshank Redemption, The (1994)      1404.0\n",
       "314       356                        Forrest Gump (1994)      1370.0\n",
       "257       296                        Pulp Fiction (1994)      1288.5\n",
       "1938     2571                         Matrix, The (1999)      1165.5\n",
       "510       593           Silence of the Lambs, The (1991)      1161.0\n",
       "224       260  Star Wars: Episode IV - A New Hope (1977)      1062.0\n",
       "97        110                          Braveheart (1995)       955.5\n",
       "2224     2959                          Fight Club (1999)       931.5\n",
       "461       527                    Schindler's List (1993)       929.5\n",
       "418       480                       Jurassic Park (1993)       892.5"
      ]
     },
     "execution_count": 10,
     "metadata": {},
     "output_type": "execute_result"
    }
   ],
   "source": [
    "cold_start(100)"
   ]
  },
  {
   "cell_type": "markdown",
   "metadata": {},
   "source": [
    "### Рекомендация на основе содержания Content-based"
   ]
  },
  {
   "cell_type": "code",
   "execution_count": 11,
   "metadata": {},
   "outputs": [],
   "source": [
    "# группируем тэги для фильмов\n",
    "grouped_tags = tags.groupby('movieId').agg({'tag': [(lambda x: \"|\".join(x)), np.count_nonzero]})\n",
    "grouped_tags.columns=['all_tags', 'all_tags_count']"
   ]
  },
  {
   "cell_type": "code",
   "execution_count": 12,
   "metadata": {},
   "outputs": [],
   "source": [
    "def tf_idf(row, value, dictionary):\n",
    "    return (1/len(row.split('|')))*dictionary[value] if value in row else 0"
   ]
  },
  {
   "cell_type": "code",
   "execution_count": 13,
   "metadata": {},
   "outputs": [],
   "source": [
    "movies_with_tags = movies.merge(grouped_tags, on='movieId', how='left', sort=False)\\\n",
    "                                 .merge(movies_means_normalize, on='movieId', how='left', sort=False)\n",
    "movies_with_tags['all_tags'] = movies_with_tags['all_tags'].fillna('')\n",
    "movies_with_tags = movies_with_tags.fillna(0)"
   ]
  },
  {
   "cell_type": "code",
   "execution_count": 14,
   "metadata": {},
   "outputs": [],
   "source": [
    "#формируем список жанров:\n",
    "genres_list = []\n",
    "for i in movies.genres.str.split('|'):\n",
    "    for j in i:\n",
    "        genres_list.append(j)\n",
    "        \n",
    "#словарь жанров:\n",
    "genres_dict = {i:np.log(len(movies)/genres_list.count(i)) for i in genres_list}"
   ]
  },
  {
   "cell_type": "code",
   "execution_count": 15,
   "metadata": {},
   "outputs": [],
   "source": [
    "from tqdm import tqdm, tqdm_notebook"
   ]
  },
  {
   "cell_type": "code",
   "execution_count": 16,
   "metadata": {},
   "outputs": [
    {
     "name": "stderr",
     "output_type": "stream",
     "text": [
      "100%|██████████| 20/20 [00:03<00:00,  6.54it/s]\n"
     ]
    }
   ],
   "source": [
    "#добавим новые фичи в датасет (TF-IDF на жанрах):\n",
    "for i in tqdm(genres_dict):\n",
    "    movies_with_tags['tf_idf_'+i] = movies_with_tags.apply(lambda row: tf_idf(row['genres'], i, genres_dict), axis=1)"
   ]
  },
  {
   "cell_type": "code",
   "execution_count": 17,
   "metadata": {},
   "outputs": [],
   "source": [
    "#формируем список тэгов\n",
    "tags_list = []\n",
    "for i in grouped_tags.all_tags.str.split('|'):\n",
    "    for j in i :\n",
    "        tags_list.append(j)\n",
    "        \n",
    "#словарь тэгов\n",
    "tags_dict = {i:np.log(len(movies)/tags_list.count(i)) for i in tags_list if tags_list.count(i)>5 and i!=''}"
   ]
  },
  {
   "cell_type": "code",
   "execution_count": 18,
   "metadata": {},
   "outputs": [
    {
     "name": "stderr",
     "output_type": "stream",
     "text": [
      "100%|██████████| 125/125 [00:29<00:00,  3.28it/s]\n"
     ]
    }
   ],
   "source": [
    "#добавим новые фичи в датасет (TF-IDF на тэгах для пользователя и фильма):\n",
    "for i in tqdm(tags_dict):\n",
    "    movies_with_tags['tf_idf_'+i] = movies_with_tags\\\n",
    "                .apply(lambda row: tf_idf(row['all_tags'], i, tags_dict), axis=1)"
   ]
  },
  {
   "cell_type": "code",
   "execution_count": 19,
   "metadata": {},
   "outputs": [],
   "source": [
    "movies_tf_idf = movies_with_tags.drop(['genres', 'title', 'all_tags'], axis=1)"
   ]
  },
  {
   "cell_type": "code",
   "execution_count": 21,
   "metadata": {},
   "outputs": [],
   "source": [
    "#по пользователям - cредняя оценка, медианное значение, дисперсия, количество оценок пользователей\n",
    "users_mean = ratings.groupby('userId').agg({'movieId': np.count_nonzero, \n",
    "                                'rating': [np.median, np.var, np.average]})\n",
    "users_mean.columns=['movieid_count', 'user_rating_median', 'user_rating_var', 'user_rating_average']"
   ]
  },
  {
   "cell_type": "code",
   "execution_count": 22,
   "metadata": {},
   "outputs": [
    {
     "data": {
      "text/html": [
       "<div>\n",
       "<style scoped>\n",
       "    .dataframe tbody tr th:only-of-type {\n",
       "        vertical-align: middle;\n",
       "    }\n",
       "\n",
       "    .dataframe tbody tr th {\n",
       "        vertical-align: top;\n",
       "    }\n",
       "\n",
       "    .dataframe thead th {\n",
       "        text-align: right;\n",
       "    }\n",
       "</style>\n",
       "<table border=\"1\" class=\"dataframe\">\n",
       "  <thead>\n",
       "    <tr style=\"text-align: right;\">\n",
       "      <th></th>\n",
       "      <th>movieid_count</th>\n",
       "      <th>user_rating_median</th>\n",
       "      <th>user_rating_var</th>\n",
       "      <th>user_rating_average</th>\n",
       "      <th>userId</th>\n",
       "    </tr>\n",
       "  </thead>\n",
       "  <tbody>\n",
       "    <tr>\n",
       "      <th>0</th>\n",
       "      <td>0.999587</td>\n",
       "      <td>0.021543</td>\n",
       "      <td>0.002758</td>\n",
       "      <td>0.018813</td>\n",
       "      <td>1</td>\n",
       "    </tr>\n",
       "    <tr>\n",
       "      <th>1</th>\n",
       "      <td>0.981496</td>\n",
       "      <td>0.135379</td>\n",
       "      <td>0.021966</td>\n",
       "      <td>0.133628</td>\n",
       "      <td>2</td>\n",
       "    </tr>\n",
       "    <tr>\n",
       "      <th>2</th>\n",
       "      <td>0.991790</td>\n",
       "      <td>0.012715</td>\n",
       "      <td>0.111151</td>\n",
       "      <td>0.061946</td>\n",
       "      <td>3</td>\n",
       "    </tr>\n",
       "    <tr>\n",
       "      <th>3</th>\n",
       "      <td>0.999661</td>\n",
       "      <td>0.018512</td>\n",
       "      <td>0.007993</td>\n",
       "      <td>0.016455</td>\n",
       "      <td>4</td>\n",
       "    </tr>\n",
       "    <tr>\n",
       "      <th>4</th>\n",
       "      <td>0.992294</td>\n",
       "      <td>0.090209</td>\n",
       "      <td>0.022123</td>\n",
       "      <td>0.082008</td>\n",
       "      <td>5</td>\n",
       "    </tr>\n",
       "  </tbody>\n",
       "</table>\n",
       "</div>"
      ],
      "text/plain": [
       "   movieid_count  user_rating_median  user_rating_var  user_rating_average  \\\n",
       "0       0.999587            0.021543         0.002758             0.018813   \n",
       "1       0.981496            0.135379         0.021966             0.133628   \n",
       "2       0.991790            0.012715         0.111151             0.061946   \n",
       "3       0.999661            0.018512         0.007993             0.016455   \n",
       "4       0.992294            0.090209         0.022123             0.082008   \n",
       "\n",
       "   userId  \n",
       "0       1  \n",
       "1       2  \n",
       "2       3  \n",
       "3       4  \n",
       "4       5  "
      ]
     },
     "execution_count": 22,
     "metadata": {},
     "output_type": "execute_result"
    }
   ],
   "source": [
    "users_mean_normalize = pd.DataFrame(data=normalize(users_mean), columns=users_mean.columns)\n",
    "users_mean_normalize['userId']=users_mean.index\n",
    "users_mean_normalize.head()"
   ]
  },
  {
   "cell_type": "code",
   "execution_count": 23,
   "metadata": {},
   "outputs": [
    {
     "name": "stderr",
     "output_type": "stream",
     "text": [
      "100%|██████████| 20/20 [00:31<00:00,  1.54s/it]\n"
     ]
    }
   ],
   "source": [
    "#какие оценки в среднем пользователь ставит жанрам фильмов\n",
    "user_ratings = ratings.merge(movies, on='movieId', how='left', sort=False)[['userId', 'movieId', 'rating', 'genres']]\n",
    "for i in tqdm(genres_dict):\n",
    "    user_ratings['genre_'+i] = user_ratings.apply(lambda row: row['rating'] if i in row['genres'] else None,axis=1)\n",
    "    \n",
    "user_ratings = user_ratings.groupby('userId').mean().drop(['movieId', 'rating'], axis=1).fillna(0)"
   ]
  },
  {
   "cell_type": "code",
   "execution_count": 24,
   "metadata": {},
   "outputs": [
    {
     "data": {
      "text/html": [
       "<div>\n",
       "<style scoped>\n",
       "    .dataframe tbody tr th:only-of-type {\n",
       "        vertical-align: middle;\n",
       "    }\n",
       "\n",
       "    .dataframe tbody tr th {\n",
       "        vertical-align: top;\n",
       "    }\n",
       "\n",
       "    .dataframe thead th {\n",
       "        text-align: right;\n",
       "    }\n",
       "</style>\n",
       "<table border=\"1\" class=\"dataframe\">\n",
       "  <thead>\n",
       "    <tr style=\"text-align: right;\">\n",
       "      <th></th>\n",
       "      <th>movieid_count</th>\n",
       "      <th>user_rating_median</th>\n",
       "      <th>user_rating_var</th>\n",
       "      <th>user_rating_average</th>\n",
       "      <th>userId</th>\n",
       "      <th>genre_Adventure</th>\n",
       "      <th>genre_Animation</th>\n",
       "      <th>genre_Children</th>\n",
       "      <th>genre_Comedy</th>\n",
       "      <th>genre_Fantasy</th>\n",
       "      <th>...</th>\n",
       "      <th>genre_Horror</th>\n",
       "      <th>genre_Mystery</th>\n",
       "      <th>genre_Sci-Fi</th>\n",
       "      <th>genre_War</th>\n",
       "      <th>genre_Musical</th>\n",
       "      <th>genre_Documentary</th>\n",
       "      <th>genre_IMAX</th>\n",
       "      <th>genre_Western</th>\n",
       "      <th>genre_Film-Noir</th>\n",
       "      <th>genre_(no genres listed)</th>\n",
       "    </tr>\n",
       "  </thead>\n",
       "  <tbody>\n",
       "    <tr>\n",
       "      <th>0</th>\n",
       "      <td>0.999587</td>\n",
       "      <td>0.021543</td>\n",
       "      <td>0.002758</td>\n",
       "      <td>0.018813</td>\n",
       "      <td>1</td>\n",
       "      <td>4.388235</td>\n",
       "      <td>4.689655</td>\n",
       "      <td>4.547619</td>\n",
       "      <td>4.277108</td>\n",
       "      <td>4.297872</td>\n",
       "      <td>...</td>\n",
       "      <td>3.470588</td>\n",
       "      <td>4.166667</td>\n",
       "      <td>4.225000</td>\n",
       "      <td>4.500000</td>\n",
       "      <td>4.681818</td>\n",
       "      <td>0.000000</td>\n",
       "      <td>0.000000</td>\n",
       "      <td>4.285714</td>\n",
       "      <td>5.0</td>\n",
       "      <td>0.0</td>\n",
       "    </tr>\n",
       "    <tr>\n",
       "      <th>1</th>\n",
       "      <td>0.981496</td>\n",
       "      <td>0.135379</td>\n",
       "      <td>0.021966</td>\n",
       "      <td>0.133628</td>\n",
       "      <td>2</td>\n",
       "      <td>4.166667</td>\n",
       "      <td>0.000000</td>\n",
       "      <td>0.000000</td>\n",
       "      <td>4.000000</td>\n",
       "      <td>0.000000</td>\n",
       "      <td>...</td>\n",
       "      <td>3.000000</td>\n",
       "      <td>4.000000</td>\n",
       "      <td>3.875000</td>\n",
       "      <td>4.500000</td>\n",
       "      <td>0.000000</td>\n",
       "      <td>4.333333</td>\n",
       "      <td>3.750000</td>\n",
       "      <td>3.500000</td>\n",
       "      <td>0.0</td>\n",
       "      <td>0.0</td>\n",
       "    </tr>\n",
       "    <tr>\n",
       "      <th>2</th>\n",
       "      <td>0.991790</td>\n",
       "      <td>0.012715</td>\n",
       "      <td>0.111151</td>\n",
       "      <td>0.061946</td>\n",
       "      <td>3</td>\n",
       "      <td>2.727273</td>\n",
       "      <td>0.500000</td>\n",
       "      <td>0.500000</td>\n",
       "      <td>1.000000</td>\n",
       "      <td>3.375000</td>\n",
       "      <td>...</td>\n",
       "      <td>4.687500</td>\n",
       "      <td>5.000000</td>\n",
       "      <td>4.200000</td>\n",
       "      <td>0.500000</td>\n",
       "      <td>0.500000</td>\n",
       "      <td>0.000000</td>\n",
       "      <td>0.000000</td>\n",
       "      <td>0.000000</td>\n",
       "      <td>0.0</td>\n",
       "      <td>0.0</td>\n",
       "    </tr>\n",
       "    <tr>\n",
       "      <th>3</th>\n",
       "      <td>0.999661</td>\n",
       "      <td>0.018512</td>\n",
       "      <td>0.007993</td>\n",
       "      <td>0.016455</td>\n",
       "      <td>4</td>\n",
       "      <td>3.655172</td>\n",
       "      <td>4.000000</td>\n",
       "      <td>3.800000</td>\n",
       "      <td>3.509615</td>\n",
       "      <td>3.684211</td>\n",
       "      <td>...</td>\n",
       "      <td>4.250000</td>\n",
       "      <td>3.478261</td>\n",
       "      <td>2.833333</td>\n",
       "      <td>3.571429</td>\n",
       "      <td>4.000000</td>\n",
       "      <td>4.000000</td>\n",
       "      <td>3.000000</td>\n",
       "      <td>3.800000</td>\n",
       "      <td>4.0</td>\n",
       "      <td>0.0</td>\n",
       "    </tr>\n",
       "    <tr>\n",
       "      <th>4</th>\n",
       "      <td>0.992294</td>\n",
       "      <td>0.090209</td>\n",
       "      <td>0.022123</td>\n",
       "      <td>0.082008</td>\n",
       "      <td>5</td>\n",
       "      <td>3.250000</td>\n",
       "      <td>4.333333</td>\n",
       "      <td>4.111111</td>\n",
       "      <td>3.466667</td>\n",
       "      <td>4.142857</td>\n",
       "      <td>...</td>\n",
       "      <td>3.000000</td>\n",
       "      <td>4.000000</td>\n",
       "      <td>2.500000</td>\n",
       "      <td>3.333333</td>\n",
       "      <td>4.400000</td>\n",
       "      <td>0.000000</td>\n",
       "      <td>3.666667</td>\n",
       "      <td>3.000000</td>\n",
       "      <td>0.0</td>\n",
       "      <td>0.0</td>\n",
       "    </tr>\n",
       "  </tbody>\n",
       "</table>\n",
       "<p>5 rows × 25 columns</p>\n",
       "</div>"
      ],
      "text/plain": [
       "   movieid_count  user_rating_median  user_rating_var  user_rating_average  \\\n",
       "0       0.999587            0.021543         0.002758             0.018813   \n",
       "1       0.981496            0.135379         0.021966             0.133628   \n",
       "2       0.991790            0.012715         0.111151             0.061946   \n",
       "3       0.999661            0.018512         0.007993             0.016455   \n",
       "4       0.992294            0.090209         0.022123             0.082008   \n",
       "\n",
       "   userId  genre_Adventure  genre_Animation  genre_Children  genre_Comedy  \\\n",
       "0       1         4.388235         4.689655        4.547619      4.277108   \n",
       "1       2         4.166667         0.000000        0.000000      4.000000   \n",
       "2       3         2.727273         0.500000        0.500000      1.000000   \n",
       "3       4         3.655172         4.000000        3.800000      3.509615   \n",
       "4       5         3.250000         4.333333        4.111111      3.466667   \n",
       "\n",
       "   genre_Fantasy            ...             genre_Horror  genre_Mystery  \\\n",
       "0       4.297872            ...                 3.470588       4.166667   \n",
       "1       0.000000            ...                 3.000000       4.000000   \n",
       "2       3.375000            ...                 4.687500       5.000000   \n",
       "3       3.684211            ...                 4.250000       3.478261   \n",
       "4       4.142857            ...                 3.000000       4.000000   \n",
       "\n",
       "   genre_Sci-Fi  genre_War  genre_Musical  genre_Documentary  genre_IMAX  \\\n",
       "0      4.225000   4.500000       4.681818           0.000000    0.000000   \n",
       "1      3.875000   4.500000       0.000000           4.333333    3.750000   \n",
       "2      4.200000   0.500000       0.500000           0.000000    0.000000   \n",
       "3      2.833333   3.571429       4.000000           4.000000    3.000000   \n",
       "4      2.500000   3.333333       4.400000           0.000000    3.666667   \n",
       "\n",
       "   genre_Western  genre_Film-Noir  genre_(no genres listed)  \n",
       "0       4.285714              5.0                       0.0  \n",
       "1       3.500000              0.0                       0.0  \n",
       "2       0.000000              0.0                       0.0  \n",
       "3       3.800000              4.0                       0.0  \n",
       "4       3.000000              0.0                       0.0  \n",
       "\n",
       "[5 rows x 25 columns]"
      ]
     },
     "execution_count": 24,
     "metadata": {},
     "output_type": "execute_result"
    }
   ],
   "source": [
    "users_values = users_mean_normalize.merge(user_ratings, on='userId', how='left', sort=False)\n",
    "users_values.head(5)"
   ]
  },
  {
   "cell_type": "code",
   "execution_count": 25,
   "metadata": {},
   "outputs": [],
   "source": [
    "#датасет для обучения\n",
    "movies_users = ratings.merge(users_values, on='userId', how='left', sort=False)\\\n",
    "                      .merge(movies_tf_idf, on='movieId', how='left', sort=False)\n",
    "\n",
    "data = movies_users.drop(['userId', 'movieId','timestamp'], axis=1)"
   ]
  },
  {
   "cell_type": "code",
   "execution_count": 26,
   "metadata": {},
   "outputs": [],
   "source": [
    "X = data.drop(['rating'], axis=1)\n",
    "y = data['rating']"
   ]
  },
  {
   "cell_type": "code",
   "execution_count": 27,
   "metadata": {},
   "outputs": [],
   "source": [
    "X_train, X_test, y_train, y_test = train_test_split(X, y, test_size=0.2, random_state=42)"
   ]
  },
  {
   "cell_type": "code",
   "execution_count": 28,
   "metadata": {},
   "outputs": [],
   "source": [
    "#линейная регрессия"
   ]
  },
  {
   "cell_type": "code",
   "execution_count": 29,
   "metadata": {},
   "outputs": [
    {
     "data": {
      "text/plain": [
       "GridSearchCV(cv=3, error_score='raise-deprecating',\n",
       "       estimator=LinearRegression(copy_X=True, fit_intercept=True, n_jobs=None,\n",
       "         normalize=False),\n",
       "       fit_params=None, iid='warn', n_jobs=-1,\n",
       "       param_grid={'fit_intercept': [True, False], 'normalize': [True, False]},\n",
       "       pre_dispatch='2*n_jobs', refit=True, return_train_score='warn',\n",
       "       scoring='neg_mean_squared_error', verbose=0)"
      ]
     },
     "execution_count": 29,
     "metadata": {},
     "output_type": "execute_result"
    }
   ],
   "source": [
    "lr_params={'fit_intercept':[True,False],\n",
    "           'normalize':[True,False]\n",
    "            }\n",
    "grid_lr = GridSearchCV(cv=3, param_grid=lr_params, estimator=LinearRegression(),n_jobs=-1,scoring='neg_mean_squared_error')\n",
    "grid_lr.fit(X_train,y_train)"
   ]
  },
  {
   "cell_type": "code",
   "execution_count": 30,
   "metadata": {},
   "outputs": [
    {
     "name": "stdout",
     "output_type": "stream",
     "text": [
      "{'fit_intercept': True, 'normalize': False}\n",
      "-0.8041858400805773\n",
      "LinearRegression(copy_X=True, fit_intercept=True, n_jobs=None,\n",
      "         normalize=False)\n",
      "RMSE =  0.9018093621510253\n"
     ]
    }
   ],
   "source": [
    "print(grid_lr.best_params_)\n",
    "print(grid_lr.best_score_)\n",
    "print(grid_lr.best_estimator_)\n",
    "print('RMSE = ', np.sqrt(mean_squared_error(y_test, grid_lr.best_estimator_.predict(X_test))))"
   ]
  },
  {
   "cell_type": "code",
   "execution_count": 31,
   "metadata": {},
   "outputs": [
    {
     "data": {
      "text/plain": [
       "LinearRegression(copy_X=True, fit_intercept=True, n_jobs=None,\n",
       "         normalize=False)"
      ]
     },
     "execution_count": 31,
     "metadata": {},
     "output_type": "execute_result"
    }
   ],
   "source": [
    "best_estimator = grid_lr.best_estimator_\n",
    "best_estimator"
   ]
  },
  {
   "cell_type": "code",
   "execution_count": 32,
   "metadata": {},
   "outputs": [
    {
     "data": {
      "text/plain": [
       "0.813260125663239"
      ]
     },
     "execution_count": 32,
     "metadata": {},
     "output_type": "execute_result"
    }
   ],
   "source": [
    "predictions = best_estimator.predict(X_test)\n",
    "mean_squared_error(predictions, y_test)"
   ]
  },
  {
   "cell_type": "code",
   "execution_count": 33,
   "metadata": {},
   "outputs": [
    {
     "data": {
      "text/plain": [
       "array([3.34147017, 3.47876166, 2.53070914, ..., 3.89700885, 3.41666966,\n",
       "       2.75675225])"
      ]
     },
     "execution_count": 33,
     "metadata": {},
     "output_type": "execute_result"
    }
   ],
   "source": [
    "predictions"
   ]
  },
  {
   "cell_type": "code",
   "execution_count": 34,
   "metadata": {},
   "outputs": [],
   "source": [
    "#рекомендуем фильмы на основе сожержания"
   ]
  },
  {
   "cell_type": "code",
   "execution_count": 35,
   "metadata": {},
   "outputs": [],
   "source": [
    "def warm_start(userId):\n",
    "    moviesids = ratings.loc[(ratings.userId==userId), 'movieId'].values\n",
    "    \n",
    "    movies_not_wathed = movies_tf_idf.loc[(~movies.movieId.isin(moviesids))]\n",
    "    movies_not_wathed['key'] = 0\n",
    "    users = users_values.loc[(users_values.userId==userId)]\n",
    "    users['key'] = 0\n",
    "    \n",
    "    movies_not_wathed = movies_not_wathed.merge(users, on='key', how='left')\n",
    "    data = movies_not_wathed.drop(['userId', 'movieId', 'key'], axis=1).fillna(0)\n",
    "    \n",
    "    result = movies_not_wathed[['movieId']].merge(movies, on='movieId', how='inner')\n",
    "    result['prediction'] = best_estimator.predict(data)\n",
    "    \n",
    "    return result.sort_values('prediction', ascending=False).head(10)"
   ]
  },
  {
   "cell_type": "code",
   "execution_count": 36,
   "metadata": {},
   "outputs": [
    {
     "name": "stderr",
     "output_type": "stream",
     "text": [
      "/anaconda3/lib/python3.6/site-packages/ipykernel_launcher.py:5: SettingWithCopyWarning: \n",
      "A value is trying to be set on a copy of a slice from a DataFrame.\n",
      "Try using .loc[row_indexer,col_indexer] = value instead\n",
      "\n",
      "See the caveats in the documentation: http://pandas.pydata.org/pandas-docs/stable/indexing.html#indexing-view-versus-copy\n",
      "  \"\"\"\n",
      "/anaconda3/lib/python3.6/site-packages/ipykernel_launcher.py:7: SettingWithCopyWarning: \n",
      "A value is trying to be set on a copy of a slice from a DataFrame.\n",
      "Try using .loc[row_indexer,col_indexer] = value instead\n",
      "\n",
      "See the caveats in the documentation: http://pandas.pydata.org/pandas-docs/stable/indexing.html#indexing-view-versus-copy\n",
      "  import sys\n"
     ]
    },
    {
     "data": {
      "text/html": [
       "<div>\n",
       "<style scoped>\n",
       "    .dataframe tbody tr th:only-of-type {\n",
       "        vertical-align: middle;\n",
       "    }\n",
       "\n",
       "    .dataframe tbody tr th {\n",
       "        vertical-align: top;\n",
       "    }\n",
       "\n",
       "    .dataframe thead th {\n",
       "        text-align: right;\n",
       "    }\n",
       "</style>\n",
       "<table border=\"1\" class=\"dataframe\">\n",
       "  <thead>\n",
       "    <tr style=\"text-align: right;\">\n",
       "      <th></th>\n",
       "      <th>movieId</th>\n",
       "      <th>title</th>\n",
       "      <th>genres</th>\n",
       "      <th>prediction</th>\n",
       "    </tr>\n",
       "  </thead>\n",
       "  <tbody>\n",
       "    <tr>\n",
       "      <th>9569</th>\n",
       "      <td>183301</td>\n",
       "      <td>The Tale of the Bunny Picnic (1986)</td>\n",
       "      <td>Children</td>\n",
       "      <td>18.218001</td>\n",
       "    </tr>\n",
       "    <tr>\n",
       "      <th>4136</th>\n",
       "      <td>6192</td>\n",
       "      <td>Open Hearts (Elsker dig for evigt) (2002)</td>\n",
       "      <td>Romance</td>\n",
       "      <td>18.155099</td>\n",
       "    </tr>\n",
       "    <tr>\n",
       "      <th>5235</th>\n",
       "      <td>8911</td>\n",
       "      <td>Raise Your Voice (2004)</td>\n",
       "      <td>Romance</td>\n",
       "      <td>18.155099</td>\n",
       "    </tr>\n",
       "    <tr>\n",
       "      <th>1075</th>\n",
       "      <td>1475</td>\n",
       "      <td>Kama Sutra: A Tale of Love (1996)</td>\n",
       "      <td>Romance</td>\n",
       "      <td>18.107724</td>\n",
       "    </tr>\n",
       "    <tr>\n",
       "      <th>1077</th>\n",
       "      <td>1477</td>\n",
       "      <td>Love Jones (1997)</td>\n",
       "      <td>Romance</td>\n",
       "      <td>18.107724</td>\n",
       "    </tr>\n",
       "    <tr>\n",
       "      <th>825</th>\n",
       "      <td>1137</td>\n",
       "      <td>Hustler White (1996)</td>\n",
       "      <td>Romance</td>\n",
       "      <td>18.107724</td>\n",
       "    </tr>\n",
       "    <tr>\n",
       "      <th>8888</th>\n",
       "      <td>139747</td>\n",
       "      <td>Before We Go (2014)</td>\n",
       "      <td>Romance</td>\n",
       "      <td>18.073727</td>\n",
       "    </tr>\n",
       "    <tr>\n",
       "      <th>5491</th>\n",
       "      <td>26958</td>\n",
       "      <td>Emma (1996)</td>\n",
       "      <td>Romance</td>\n",
       "      <td>18.073727</td>\n",
       "    </tr>\n",
       "    <tr>\n",
       "      <th>1087</th>\n",
       "      <td>1493</td>\n",
       "      <td>Love and Other Catastrophes (1996)</td>\n",
       "      <td>Romance</td>\n",
       "      <td>18.073727</td>\n",
       "    </tr>\n",
       "    <tr>\n",
       "      <th>1098</th>\n",
       "      <td>1514</td>\n",
       "      <td>Temptress Moon (Feng Yue) (1996)</td>\n",
       "      <td>Romance</td>\n",
       "      <td>18.028323</td>\n",
       "    </tr>\n",
       "  </tbody>\n",
       "</table>\n",
       "</div>"
      ],
      "text/plain": [
       "      movieId                                      title    genres  prediction\n",
       "9569   183301        The Tale of the Bunny Picnic (1986)  Children   18.218001\n",
       "4136     6192  Open Hearts (Elsker dig for evigt) (2002)   Romance   18.155099\n",
       "5235     8911                    Raise Your Voice (2004)   Romance   18.155099\n",
       "1075     1475          Kama Sutra: A Tale of Love (1996)   Romance   18.107724\n",
       "1077     1477                          Love Jones (1997)   Romance   18.107724\n",
       "825      1137                       Hustler White (1996)   Romance   18.107724\n",
       "8888   139747                        Before We Go (2014)   Romance   18.073727\n",
       "5491    26958                                Emma (1996)   Romance   18.073727\n",
       "1087     1493         Love and Other Catastrophes (1996)   Romance   18.073727\n",
       "1098     1514           Temptress Moon (Feng Yue) (1996)   Romance   18.028323"
      ]
     },
     "execution_count": 36,
     "metadata": {},
     "output_type": "execute_result"
    }
   ],
   "source": [
    "warm_start(201)"
   ]
  },
  {
   "cell_type": "markdown",
   "metadata": {},
   "source": [
    "### Коллаборативная фильтрация (SVD на Surprise)"
   ]
  },
  {
   "cell_type": "code",
   "execution_count": 37,
   "metadata": {},
   "outputs": [],
   "source": [
    "#будем использовать данные по тем пользователям, которые поствили больше 10 оценок\n",
    "movies_and_ratings = ratings.merge(movies, on='movieId', how='left')\n",
    "dataset = pd.DataFrame({\n",
    "    'uid': movies_and_ratings.userId,\n",
    "    'iid': movies_and_ratings.movieId,\n",
    "    'rating': movies_and_ratings.rating})"
   ]
  },
  {
   "cell_type": "code",
   "execution_count": 38,
   "metadata": {},
   "outputs": [],
   "source": [
    "reader = Reader(rating_scale=(0.5, 5.0))\n",
    "data = Dataset.load_from_df(dataset, reader)"
   ]
  },
  {
   "cell_type": "code",
   "execution_count": 39,
   "metadata": {},
   "outputs": [
    {
     "ename": "TypeError",
     "evalue": "Singleton array array(<surprise.dataset.DatasetAutoFolds object at 0x1a192ce668>,\n      dtype=object) cannot be considered a valid collection.",
     "output_type": "error",
     "traceback": [
      "\u001b[0;31m---------------------------------------------------------------------------\u001b[0m",
      "\u001b[0;31mTypeError\u001b[0m                                 Traceback (most recent call last)",
      "\u001b[0;32m<ipython-input-39-27692556e7f0>\u001b[0m in \u001b[0;36m<module>\u001b[0;34m()\u001b[0m\n\u001b[0;32m----> 1\u001b[0;31m \u001b[0mtrainset\u001b[0m\u001b[0;34m,\u001b[0m \u001b[0mtestset\u001b[0m \u001b[0;34m=\u001b[0m \u001b[0mtrain_test_split\u001b[0m\u001b[0;34m(\u001b[0m\u001b[0mdata\u001b[0m\u001b[0;34m,\u001b[0m \u001b[0mtest_size\u001b[0m\u001b[0;34m=\u001b[0m\u001b[0;36m.25\u001b[0m\u001b[0;34m)\u001b[0m \u001b[0;31m#параметры алгоритма\u001b[0m\u001b[0;34m\u001b[0m\u001b[0;34m\u001b[0m\u001b[0m\n\u001b[0m",
      "\u001b[0;32m/anaconda3/lib/python3.6/site-packages/sklearn/model_selection/_split.py\u001b[0m in \u001b[0;36mtrain_test_split\u001b[0;34m(*arrays, **options)\u001b[0m\n\u001b[1;32m   2182\u001b[0m         \u001b[0mtest_size\u001b[0m \u001b[0;34m=\u001b[0m \u001b[0;36m0.25\u001b[0m\u001b[0;34m\u001b[0m\u001b[0;34m\u001b[0m\u001b[0m\n\u001b[1;32m   2183\u001b[0m \u001b[0;34m\u001b[0m\u001b[0m\n\u001b[0;32m-> 2184\u001b[0;31m     \u001b[0marrays\u001b[0m \u001b[0;34m=\u001b[0m \u001b[0mindexable\u001b[0m\u001b[0;34m(\u001b[0m\u001b[0;34m*\u001b[0m\u001b[0marrays\u001b[0m\u001b[0;34m)\u001b[0m\u001b[0;34m\u001b[0m\u001b[0;34m\u001b[0m\u001b[0m\n\u001b[0m\u001b[1;32m   2185\u001b[0m \u001b[0;34m\u001b[0m\u001b[0m\n\u001b[1;32m   2186\u001b[0m     \u001b[0;32mif\u001b[0m \u001b[0mshuffle\u001b[0m \u001b[0;32mis\u001b[0m \u001b[0;32mFalse\u001b[0m\u001b[0;34m:\u001b[0m\u001b[0;34m\u001b[0m\u001b[0;34m\u001b[0m\u001b[0m\n",
      "\u001b[0;32m/anaconda3/lib/python3.6/site-packages/sklearn/utils/validation.py\u001b[0m in \u001b[0;36mindexable\u001b[0;34m(*iterables)\u001b[0m\n\u001b[1;32m    258\u001b[0m         \u001b[0;32melse\u001b[0m\u001b[0;34m:\u001b[0m\u001b[0;34m\u001b[0m\u001b[0;34m\u001b[0m\u001b[0m\n\u001b[1;32m    259\u001b[0m             \u001b[0mresult\u001b[0m\u001b[0;34m.\u001b[0m\u001b[0mappend\u001b[0m\u001b[0;34m(\u001b[0m\u001b[0mnp\u001b[0m\u001b[0;34m.\u001b[0m\u001b[0marray\u001b[0m\u001b[0;34m(\u001b[0m\u001b[0mX\u001b[0m\u001b[0;34m)\u001b[0m\u001b[0;34m)\u001b[0m\u001b[0;34m\u001b[0m\u001b[0;34m\u001b[0m\u001b[0m\n\u001b[0;32m--> 260\u001b[0;31m     \u001b[0mcheck_consistent_length\u001b[0m\u001b[0;34m(\u001b[0m\u001b[0;34m*\u001b[0m\u001b[0mresult\u001b[0m\u001b[0;34m)\u001b[0m\u001b[0;34m\u001b[0m\u001b[0;34m\u001b[0m\u001b[0m\n\u001b[0m\u001b[1;32m    261\u001b[0m     \u001b[0;32mreturn\u001b[0m \u001b[0mresult\u001b[0m\u001b[0;34m\u001b[0m\u001b[0;34m\u001b[0m\u001b[0m\n\u001b[1;32m    262\u001b[0m \u001b[0;34m\u001b[0m\u001b[0m\n",
      "\u001b[0;32m/anaconda3/lib/python3.6/site-packages/sklearn/utils/validation.py\u001b[0m in \u001b[0;36mcheck_consistent_length\u001b[0;34m(*arrays)\u001b[0m\n\u001b[1;32m    229\u001b[0m     \"\"\"\n\u001b[1;32m    230\u001b[0m \u001b[0;34m\u001b[0m\u001b[0m\n\u001b[0;32m--> 231\u001b[0;31m     \u001b[0mlengths\u001b[0m \u001b[0;34m=\u001b[0m \u001b[0;34m[\u001b[0m\u001b[0m_num_samples\u001b[0m\u001b[0;34m(\u001b[0m\u001b[0mX\u001b[0m\u001b[0;34m)\u001b[0m \u001b[0;32mfor\u001b[0m \u001b[0mX\u001b[0m \u001b[0;32min\u001b[0m \u001b[0marrays\u001b[0m \u001b[0;32mif\u001b[0m \u001b[0mX\u001b[0m \u001b[0;32mis\u001b[0m \u001b[0;32mnot\u001b[0m \u001b[0;32mNone\u001b[0m\u001b[0;34m]\u001b[0m\u001b[0;34m\u001b[0m\u001b[0;34m\u001b[0m\u001b[0m\n\u001b[0m\u001b[1;32m    232\u001b[0m     \u001b[0muniques\u001b[0m \u001b[0;34m=\u001b[0m \u001b[0mnp\u001b[0m\u001b[0;34m.\u001b[0m\u001b[0munique\u001b[0m\u001b[0;34m(\u001b[0m\u001b[0mlengths\u001b[0m\u001b[0;34m)\u001b[0m\u001b[0;34m\u001b[0m\u001b[0;34m\u001b[0m\u001b[0m\n\u001b[1;32m    233\u001b[0m     \u001b[0;32mif\u001b[0m \u001b[0mlen\u001b[0m\u001b[0;34m(\u001b[0m\u001b[0muniques\u001b[0m\u001b[0;34m)\u001b[0m \u001b[0;34m>\u001b[0m \u001b[0;36m1\u001b[0m\u001b[0;34m:\u001b[0m\u001b[0;34m\u001b[0m\u001b[0;34m\u001b[0m\u001b[0m\n",
      "\u001b[0;32m/anaconda3/lib/python3.6/site-packages/sklearn/utils/validation.py\u001b[0m in \u001b[0;36m<listcomp>\u001b[0;34m(.0)\u001b[0m\n\u001b[1;32m    229\u001b[0m     \"\"\"\n\u001b[1;32m    230\u001b[0m \u001b[0;34m\u001b[0m\u001b[0m\n\u001b[0;32m--> 231\u001b[0;31m     \u001b[0mlengths\u001b[0m \u001b[0;34m=\u001b[0m \u001b[0;34m[\u001b[0m\u001b[0m_num_samples\u001b[0m\u001b[0;34m(\u001b[0m\u001b[0mX\u001b[0m\u001b[0;34m)\u001b[0m \u001b[0;32mfor\u001b[0m \u001b[0mX\u001b[0m \u001b[0;32min\u001b[0m \u001b[0marrays\u001b[0m \u001b[0;32mif\u001b[0m \u001b[0mX\u001b[0m \u001b[0;32mis\u001b[0m \u001b[0;32mnot\u001b[0m \u001b[0;32mNone\u001b[0m\u001b[0;34m]\u001b[0m\u001b[0;34m\u001b[0m\u001b[0;34m\u001b[0m\u001b[0m\n\u001b[0m\u001b[1;32m    232\u001b[0m     \u001b[0muniques\u001b[0m \u001b[0;34m=\u001b[0m \u001b[0mnp\u001b[0m\u001b[0;34m.\u001b[0m\u001b[0munique\u001b[0m\u001b[0;34m(\u001b[0m\u001b[0mlengths\u001b[0m\u001b[0;34m)\u001b[0m\u001b[0;34m\u001b[0m\u001b[0;34m\u001b[0m\u001b[0m\n\u001b[1;32m    233\u001b[0m     \u001b[0;32mif\u001b[0m \u001b[0mlen\u001b[0m\u001b[0;34m(\u001b[0m\u001b[0muniques\u001b[0m\u001b[0;34m)\u001b[0m \u001b[0;34m>\u001b[0m \u001b[0;36m1\u001b[0m\u001b[0;34m:\u001b[0m\u001b[0;34m\u001b[0m\u001b[0;34m\u001b[0m\u001b[0m\n",
      "\u001b[0;32m/anaconda3/lib/python3.6/site-packages/sklearn/utils/validation.py\u001b[0m in \u001b[0;36m_num_samples\u001b[0;34m(x)\u001b[0m\n\u001b[1;32m    140\u001b[0m         \u001b[0;32mif\u001b[0m \u001b[0mlen\u001b[0m\u001b[0;34m(\u001b[0m\u001b[0mx\u001b[0m\u001b[0;34m.\u001b[0m\u001b[0mshape\u001b[0m\u001b[0;34m)\u001b[0m \u001b[0;34m==\u001b[0m \u001b[0;36m0\u001b[0m\u001b[0;34m:\u001b[0m\u001b[0;34m\u001b[0m\u001b[0;34m\u001b[0m\u001b[0m\n\u001b[1;32m    141\u001b[0m             raise TypeError(\"Singleton array %r cannot be considered\"\n\u001b[0;32m--> 142\u001b[0;31m                             \" a valid collection.\" % x)\n\u001b[0m\u001b[1;32m    143\u001b[0m         \u001b[0;31m# Check that shape is returning an integer or default to len\u001b[0m\u001b[0;34m\u001b[0m\u001b[0;34m\u001b[0m\u001b[0;34m\u001b[0m\u001b[0m\n\u001b[1;32m    144\u001b[0m         \u001b[0;31m# Dask dataframes may not return numeric shape[0] value\u001b[0m\u001b[0;34m\u001b[0m\u001b[0;34m\u001b[0m\u001b[0;34m\u001b[0m\u001b[0m\n",
      "\u001b[0;31mTypeError\u001b[0m: Singleton array array(<surprise.dataset.DatasetAutoFolds object at 0x1a192ce668>,\n      dtype=object) cannot be considered a valid collection."
     ]
    }
   ],
   "source": [
    "trainset, testset = train_test_split(data, test_size=.25) #параметры алгоритма"
   ]
  },
  {
   "cell_type": "code",
   "execution_count": null,
   "metadata": {},
   "outputs": [],
   "source": []
  }
 ],
 "metadata": {
  "kernelspec": {
   "display_name": "Python 3",
   "language": "python",
   "name": "python3"
  },
  "language_info": {
   "codemirror_mode": {
    "name": "ipython",
    "version": 3
   },
   "file_extension": ".py",
   "mimetype": "text/x-python",
   "name": "python",
   "nbconvert_exporter": "python",
   "pygments_lexer": "ipython3",
   "version": "3.6.8"
  }
 },
 "nbformat": 4,
 "nbformat_minor": 2
}
